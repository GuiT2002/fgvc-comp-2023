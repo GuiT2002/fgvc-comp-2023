{
 "cells": [
  {
   "attachments": {},
   "cell_type": "markdown",
   "metadata": {},
   "source": [
    "# Download FathomNet-FGVC 2023 images\n",
    "## March 24, 2023\n",
    "\n",
    "This notebook downloads images for the [FathomNet 2023 Competition](https://www.kaggle.com/competitions/fathomnet-out-of-sample-detection/overview). It assumes that the dataset has been downloaded from Kaggle and retains the original directory structure:\n",
    "\n",
    "```\n",
    "../fathomnet-out-of-sample-detection\n",
    "    |\n",
    "    |____multilabel_classification\n",
    "    |  |____train.csv\n",
    "    |____object_detection\n",
    "    |  |____eval.json\n",
    "    |  |____train.json\n",
    "    |____category_key.csv\n",
    "    |____demo_download.ipynb\n",
    "    |____download_images.py\n",
    "    |____requirements.txt\n",
    "    |____sample_submission.csv\n",
    "```"
   ]
  },
  {
   "attachments": {},
   "cell_type": "markdown",
   "metadata": {},
   "source": [
    "### Install requirements\n",
    "This installs the requirements in the current python3 environment."
   ]
  },
  {
   "cell_type": "code",
   "execution_count": 4,
   "metadata": {},
   "outputs": [
    {
     "name": "stdout",
     "output_type": "stream",
     "text": [
      "Requirement already satisfied: Bottleneck==1.3.5 in /opt/anaconda3/envs/fgvc-comp-2023/lib/python3.10/site-packages (from -r requirements.txt (line 1)) (1.3.5)\n",
      "Requirement already satisfied: brotlipy==0.7.0 in /opt/anaconda3/envs/fgvc-comp-2023/lib/python3.10/site-packages (from -r requirements.txt (line 2)) (0.7.0)\n",
      "Requirement already satisfied: certifi==2022.12.7 in /opt/anaconda3/envs/fgvc-comp-2023/lib/python3.10/site-packages (from -r requirements.txt (line 3)) (2022.12.7)\n",
      "Requirement already satisfied: cffi==1.15.1 in /opt/anaconda3/envs/fgvc-comp-2023/lib/python3.10/site-packages (from -r requirements.txt (line 4)) (1.15.1)\n",
      "Requirement already satisfied: charset-normalizer==2.0.4 in /opt/anaconda3/envs/fgvc-comp-2023/lib/python3.10/site-packages (from -r requirements.txt (line 5)) (2.0.4)\n",
      "Requirement already satisfied: cryptography==38.0.4 in /opt/anaconda3/envs/fgvc-comp-2023/lib/python3.10/site-packages (from -r requirements.txt (line 6)) (38.0.4)\n",
      "Requirement already satisfied: idna==3.4 in /opt/anaconda3/envs/fgvc-comp-2023/lib/python3.10/site-packages (from -r requirements.txt (line 7)) (3.4)\n",
      "Requirement already satisfied: mkl-fft==1.3.1 in /opt/anaconda3/envs/fgvc-comp-2023/lib/python3.10/site-packages (from -r requirements.txt (line 8)) (1.3.1)\n",
      "Requirement already satisfied: mkl-random==1.2.2 in /opt/anaconda3/envs/fgvc-comp-2023/lib/python3.10/site-packages (from -r requirements.txt (line 9)) (1.2.2)\n",
      "Requirement already satisfied: mkl-service==2.4.0 in /opt/anaconda3/envs/fgvc-comp-2023/lib/python3.10/site-packages (from -r requirements.txt (line 10)) (2.4.0)\n",
      "Requirement already satisfied: numexpr==2.8.4 in /opt/anaconda3/envs/fgvc-comp-2023/lib/python3.10/site-packages (from -r requirements.txt (line 11)) (2.8.4)\n",
      "Requirement already satisfied: numpy==1.23.5 in /opt/anaconda3/envs/fgvc-comp-2023/lib/python3.10/site-packages (from -r requirements.txt (line 12)) (1.23.5)\n",
      "Requirement already satisfied: packaging==22.0 in /opt/anaconda3/envs/fgvc-comp-2023/lib/python3.10/site-packages (from -r requirements.txt (line 13)) (22.0)\n",
      "Requirement already satisfied: pandas==1.5.2 in /opt/anaconda3/envs/fgvc-comp-2023/lib/python3.10/site-packages (from -r requirements.txt (line 14)) (1.5.2)\n",
      "Requirement already satisfied: pip==22.3.1 in /opt/anaconda3/envs/fgvc-comp-2023/lib/python3.10/site-packages (from -r requirements.txt (line 15)) (22.3.1)\n",
      "Requirement already satisfied: progressbar2==4.2.0 in /opt/anaconda3/envs/fgvc-comp-2023/lib/python3.10/site-packages (from -r requirements.txt (line 16)) (4.2.0)\n",
      "Requirement already satisfied: pycparser==2.21 in /opt/anaconda3/envs/fgvc-comp-2023/lib/python3.10/site-packages (from -r requirements.txt (line 17)) (2.21)\n",
      "Requirement already satisfied: pyOpenSSL==22.0.0 in /opt/anaconda3/envs/fgvc-comp-2023/lib/python3.10/site-packages (from -r requirements.txt (line 18)) (22.0.0)\n",
      "Requirement already satisfied: PySocks==1.7.1 in /opt/anaconda3/envs/fgvc-comp-2023/lib/python3.10/site-packages (from -r requirements.txt (line 19)) (1.7.1)\n",
      "Requirement already satisfied: python-dateutil==2.8.2 in /opt/anaconda3/envs/fgvc-comp-2023/lib/python3.10/site-packages (from -r requirements.txt (line 20)) (2.8.2)\n",
      "Requirement already satisfied: python-utils==3.3.3 in /opt/anaconda3/envs/fgvc-comp-2023/lib/python3.10/site-packages (from -r requirements.txt (line 21)) (3.3.3)\n",
      "Requirement already satisfied: pytz==2022.7 in /opt/anaconda3/envs/fgvc-comp-2023/lib/python3.10/site-packages (from -r requirements.txt (line 22)) (2022.7)\n",
      "Requirement already satisfied: requests==2.28.1 in /opt/anaconda3/envs/fgvc-comp-2023/lib/python3.10/site-packages (from -r requirements.txt (line 23)) (2.28.1)\n",
      "Requirement already satisfied: setuptools==65.6.3 in /opt/anaconda3/envs/fgvc-comp-2023/lib/python3.10/site-packages (from -r requirements.txt (line 24)) (65.6.3)\n",
      "Requirement already satisfied: six==1.16.0 in /opt/anaconda3/envs/fgvc-comp-2023/lib/python3.10/site-packages (from -r requirements.txt (line 25)) (1.16.0)\n",
      "Requirement already satisfied: urllib3==1.26.14 in /opt/anaconda3/envs/fgvc-comp-2023/lib/python3.10/site-packages (from -r requirements.txt (line 26)) (1.26.14)\n",
      "Requirement already satisfied: wheel==0.38.4 in /opt/anaconda3/envs/fgvc-comp-2023/lib/python3.10/site-packages (from -r requirements.txt (line 27)) (0.38.4)\n",
      "Note: you may need to restart the kernel to use updated packages.\n"
     ]
    }
   ],
   "source": [
    "%pip install -r requirements.txt"
   ]
  },
  {
   "attachments": {},
   "cell_type": "markdown",
   "metadata": {},
   "source": [
    "### Start download\n",
    "\n",
    "First download the training data. The script `download_images.py` will by default create a new directory called `images` where all the downloaded files will live. If you want the images to live someplace else on your local machine, specify an output directory using the `--outpath` flag. This may take upwards of an hour depending on your internet connection. "
   ]
  },
  {
   "cell_type": "code",
   "execution_count": null,
   "metadata": {},
   "outputs": [],
   "source": [
    "!python download_images.py object_detection/train.json "
   ]
  },
  {
   "attachments": {},
   "cell_type": "markdown",
   "metadata": {},
   "source": [
    "Now download the evaluation data. Again, if you want to save the images to a different directory, please specify the location with the `--outpath` flag. "
   ]
  },
  {
   "cell_type": "code",
   "execution_count": null,
   "metadata": {},
   "outputs": [],
   "source": [
    "!python download_images.py object_detection/eval.json"
   ]
  }
 ],
 "metadata": {
  "kernelspec": {
   "display_name": "fgvc-comp-2023",
   "language": "python",
   "name": "python3"
  },
  "language_info": {
   "codemirror_mode": {
    "name": "ipython",
    "version": 3
   },
   "file_extension": ".py",
   "mimetype": "text/x-python",
   "name": "python",
   "nbconvert_exporter": "python",
   "pygments_lexer": "ipython3",
   "version": "3.10.9"
  },
  "orig_nbformat": 4
 },
 "nbformat": 4,
 "nbformat_minor": 2
}
